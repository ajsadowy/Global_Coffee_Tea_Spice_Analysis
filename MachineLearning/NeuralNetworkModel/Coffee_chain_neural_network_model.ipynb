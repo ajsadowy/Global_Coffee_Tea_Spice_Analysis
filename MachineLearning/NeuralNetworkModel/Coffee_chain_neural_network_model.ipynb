{
 "cells": [
  {
   "cell_type": "code",
   "execution_count": 41,
   "id": "b0e9c1da",
   "metadata": {},
   "outputs": [],
   "source": [
    "# Import our dependencies\n",
    "from sklearn.model_selection import train_test_split\n",
    "from sklearn.preprocessing import StandardScaler,OneHotEncoder\n",
    "import pandas as pd\n",
    "import tensorflow as tf\n",
    "\n",
    "#  Import and read the charity_data.csv.\n",
    "import pandas as pd \n",
    "file      = \"UNdata_TradeGoods_Coffee&Tea.csv\"\n",
    "file1     = \"UNdata_TradeGoods_Spices1.csv\"\n",
    "file2     = \"UNdata_TradeGoods_Spices2.csv\"\n"
   ]
  },
  {
   "cell_type": "code",
   "execution_count": 42,
   "id": "e29c01dd",
   "metadata": {},
   "outputs": [
    {
     "data": {
      "text/html": [
       "<div>\n",
       "<style scoped>\n",
       "    .dataframe tbody tr th:only-of-type {\n",
       "        vertical-align: middle;\n",
       "    }\n",
       "\n",
       "    .dataframe tbody tr th {\n",
       "        vertical-align: top;\n",
       "    }\n",
       "\n",
       "    .dataframe thead th {\n",
       "        text-align: right;\n",
       "    }\n",
       "</style>\n",
       "<table border=\"1\" class=\"dataframe\">\n",
       "  <thead>\n",
       "    <tr style=\"text-align: right;\">\n",
       "      <th></th>\n",
       "      <th>Country or Area Code</th>\n",
       "      <th>Year</th>\n",
       "      <th>Commodity</th>\n",
       "      <th>Flow</th>\n",
       "      <th>Trade (USD)</th>\n",
       "      <th>Weight (kg)</th>\n",
       "      <th>Trade by Weight (USD per Kg)</th>\n",
       "    </tr>\n",
       "    <tr>\n",
       "      <th>Country or Area</th>\n",
       "      <th></th>\n",
       "      <th></th>\n",
       "      <th></th>\n",
       "      <th></th>\n",
       "      <th></th>\n",
       "      <th></th>\n",
       "      <th></th>\n",
       "    </tr>\n",
       "  </thead>\n",
       "  <tbody>\n",
       "    <tr>\n",
       "      <th>Afghanistan</th>\n",
       "      <td>4</td>\n",
       "      <td>2018</td>\n",
       "      <td>Coffee, not roasted, decaffeinated</td>\n",
       "      <td>Import</td>\n",
       "      <td>288818.29</td>\n",
       "      <td>33242.00</td>\n",
       "      <td>8.69</td>\n",
       "    </tr>\n",
       "    <tr>\n",
       "      <th>Afghanistan</th>\n",
       "      <td>4</td>\n",
       "      <td>2018</td>\n",
       "      <td>Tea, green (unfermented) in packages &lt; 3 kg</td>\n",
       "      <td>Import</td>\n",
       "      <td>60505888.60</td>\n",
       "      <td>39477846.10</td>\n",
       "      <td>1.53</td>\n",
       "    </tr>\n",
       "    <tr>\n",
       "      <th>Afghanistan</th>\n",
       "      <td>4</td>\n",
       "      <td>2018</td>\n",
       "      <td>Tea, green (unfermented) in packages &lt; 3 kg</td>\n",
       "      <td>Export</td>\n",
       "      <td>24985.13</td>\n",
       "      <td>11030.00</td>\n",
       "      <td>2.27</td>\n",
       "    </tr>\n",
       "    <tr>\n",
       "      <th>Afghanistan</th>\n",
       "      <td>4</td>\n",
       "      <td>2018</td>\n",
       "      <td>Tea, green (unfermented) in packages &lt; 3 kg</td>\n",
       "      <td>Re-Export</td>\n",
       "      <td>24558.75</td>\n",
       "      <td>10910.00</td>\n",
       "      <td>2.25</td>\n",
       "    </tr>\n",
       "    <tr>\n",
       "      <th>Afghanistan</th>\n",
       "      <td>4</td>\n",
       "      <td>2018</td>\n",
       "      <td>Tea, black (fermented or partly) in packages &lt;...</td>\n",
       "      <td>Import</td>\n",
       "      <td>85604441.18</td>\n",
       "      <td>41318170.24</td>\n",
       "      <td>2.07</td>\n",
       "    </tr>\n",
       "    <tr>\n",
       "      <th>Afghanistan</th>\n",
       "      <td>4</td>\n",
       "      <td>2018</td>\n",
       "      <td>Tea, black (fermented or partly) in packages &lt;...</td>\n",
       "      <td>Export</td>\n",
       "      <td>45844.69</td>\n",
       "      <td>32892.00</td>\n",
       "      <td>1.39</td>\n",
       "    </tr>\n",
       "    <tr>\n",
       "      <th>Afghanistan</th>\n",
       "      <td>4</td>\n",
       "      <td>2018</td>\n",
       "      <td>Tea, black (fermented or partly) in packages &lt;...</td>\n",
       "      <td>Re-Export</td>\n",
       "      <td>45844.69</td>\n",
       "      <td>32892.00</td>\n",
       "      <td>1.39</td>\n",
       "    </tr>\n",
       "    <tr>\n",
       "      <th>Afghanistan</th>\n",
       "      <td>4</td>\n",
       "      <td>2016</td>\n",
       "      <td>Tea, green (unfermented) in packages &lt; 3 kg</td>\n",
       "      <td>Import</td>\n",
       "      <td>44819548.00</td>\n",
       "      <td>28093001.00</td>\n",
       "      <td>1.6</td>\n",
       "    </tr>\n",
       "    <tr>\n",
       "      <th>Afghanistan</th>\n",
       "      <td>4</td>\n",
       "      <td>2016</td>\n",
       "      <td>Tea, black (fermented or partly) in packages &lt;...</td>\n",
       "      <td>Import</td>\n",
       "      <td>44851687.00</td>\n",
       "      <td>23509706.00</td>\n",
       "      <td>1.91</td>\n",
       "    </tr>\n",
       "    <tr>\n",
       "      <th>Afghanistan</th>\n",
       "      <td>4</td>\n",
       "      <td>2015</td>\n",
       "      <td>Tea, green (unfermented) in packages &lt; 3 kg</td>\n",
       "      <td>Import</td>\n",
       "      <td>51338067.00</td>\n",
       "      <td>32447158.00</td>\n",
       "      <td>1.58</td>\n",
       "    </tr>\n",
       "  </tbody>\n",
       "</table>\n",
       "</div>"
      ],
      "text/plain": [
       "                 Country or Area Code  Year  \\\n",
       "Country or Area                               \n",
       "Afghanistan                         4  2018   \n",
       "Afghanistan                         4  2018   \n",
       "Afghanistan                         4  2018   \n",
       "Afghanistan                         4  2018   \n",
       "Afghanistan                         4  2018   \n",
       "Afghanistan                         4  2018   \n",
       "Afghanistan                         4  2018   \n",
       "Afghanistan                         4  2016   \n",
       "Afghanistan                         4  2016   \n",
       "Afghanistan                         4  2015   \n",
       "\n",
       "                                                         Commodity       Flow  \\\n",
       "Country or Area                                                                 \n",
       "Afghanistan                     Coffee, not roasted, decaffeinated     Import   \n",
       "Afghanistan            Tea, green (unfermented) in packages < 3 kg     Import   \n",
       "Afghanistan            Tea, green (unfermented) in packages < 3 kg     Export   \n",
       "Afghanistan            Tea, green (unfermented) in packages < 3 kg  Re-Export   \n",
       "Afghanistan      Tea, black (fermented or partly) in packages <...     Import   \n",
       "Afghanistan      Tea, black (fermented or partly) in packages <...     Export   \n",
       "Afghanistan      Tea, black (fermented or partly) in packages <...  Re-Export   \n",
       "Afghanistan            Tea, green (unfermented) in packages < 3 kg     Import   \n",
       "Afghanistan      Tea, black (fermented or partly) in packages <...     Import   \n",
       "Afghanistan            Tea, green (unfermented) in packages < 3 kg     Import   \n",
       "\n",
       "                 Trade (USD)  Weight (kg) Trade by Weight (USD per Kg)  \n",
       "Country or Area                                                         \n",
       "Afghanistan        288818.29     33242.00                         8.69  \n",
       "Afghanistan      60505888.60  39477846.10                         1.53  \n",
       "Afghanistan         24985.13     11030.00                         2.27  \n",
       "Afghanistan         24558.75     10910.00                         2.25  \n",
       "Afghanistan      85604441.18  41318170.24                         2.07  \n",
       "Afghanistan         45844.69     32892.00                         1.39  \n",
       "Afghanistan         45844.69     32892.00                         1.39  \n",
       "Afghanistan      44819548.00  28093001.00                          1.6  \n",
       "Afghanistan      44851687.00  23509706.00                         1.91  \n",
       "Afghanistan      51338067.00  32447158.00                         1.58  "
      ]
     },
     "execution_count": 42,
     "metadata": {},
     "output_type": "execute_result"
    }
   ],
   "source": [
    "application_df  = pd.read_csv(file, index_col =1)\n",
    "application1_df = pd.read_csv(file1, index_col = 1)\n",
    "application2_df = pd.read_csv(file2, index_col = 1)\n",
    "\n",
    "application_df.head(10)"
   ]
  },
  {
   "cell_type": "code",
   "execution_count": 43,
   "id": "9db81b17",
   "metadata": {},
   "outputs": [
    {
     "name": "stderr",
     "output_type": "stream",
     "text": [
      "C:\\Users\\thanh\\anaconda3\\envs\\mlenv\\lib\\site-packages\\ipykernel_launcher.py:3: FutureWarning: In a future version of pandas all arguments of DataFrame.drop except for the argument 'labels' will be keyword-only\n",
      "  This is separate from the ipykernel package so we can avoid doing imports until\n"
     ]
    },
    {
     "data": {
      "text/html": [
       "<div>\n",
       "<style scoped>\n",
       "    .dataframe tbody tr th:only-of-type {\n",
       "        vertical-align: middle;\n",
       "    }\n",
       "\n",
       "    .dataframe tbody tr th {\n",
       "        vertical-align: top;\n",
       "    }\n",
       "\n",
       "    .dataframe thead th {\n",
       "        text-align: right;\n",
       "    }\n",
       "</style>\n",
       "<table border=\"1\" class=\"dataframe\">\n",
       "  <thead>\n",
       "    <tr style=\"text-align: right;\">\n",
       "      <th></th>\n",
       "      <th>Year</th>\n",
       "      <th>Commodity</th>\n",
       "      <th>Flow</th>\n",
       "      <th>Trade (USD)</th>\n",
       "      <th>Weight (kg)</th>\n",
       "      <th>Trade by Weight (USD per Kg)</th>\n",
       "    </tr>\n",
       "    <tr>\n",
       "      <th>Country or Area</th>\n",
       "      <th></th>\n",
       "      <th></th>\n",
       "      <th></th>\n",
       "      <th></th>\n",
       "      <th></th>\n",
       "      <th></th>\n",
       "    </tr>\n",
       "  </thead>\n",
       "  <tbody>\n",
       "    <tr>\n",
       "      <th>Afghanistan</th>\n",
       "      <td>2018</td>\n",
       "      <td>Coffee, not roasted, decaffeinated</td>\n",
       "      <td>Import</td>\n",
       "      <td>288818.29</td>\n",
       "      <td>33242.00</td>\n",
       "      <td>8.69</td>\n",
       "    </tr>\n",
       "    <tr>\n",
       "      <th>Afghanistan</th>\n",
       "      <td>2018</td>\n",
       "      <td>Tea, green (unfermented) in packages &lt; 3 kg</td>\n",
       "      <td>Import</td>\n",
       "      <td>60505888.60</td>\n",
       "      <td>39477846.10</td>\n",
       "      <td>1.53</td>\n",
       "    </tr>\n",
       "    <tr>\n",
       "      <th>Afghanistan</th>\n",
       "      <td>2018</td>\n",
       "      <td>Tea, green (unfermented) in packages &lt; 3 kg</td>\n",
       "      <td>Export</td>\n",
       "      <td>24985.13</td>\n",
       "      <td>11030.00</td>\n",
       "      <td>2.27</td>\n",
       "    </tr>\n",
       "    <tr>\n",
       "      <th>Afghanistan</th>\n",
       "      <td>2018</td>\n",
       "      <td>Tea, green (unfermented) in packages &lt; 3 kg</td>\n",
       "      <td>Re-Export</td>\n",
       "      <td>24558.75</td>\n",
       "      <td>10910.00</td>\n",
       "      <td>2.25</td>\n",
       "    </tr>\n",
       "    <tr>\n",
       "      <th>Afghanistan</th>\n",
       "      <td>2018</td>\n",
       "      <td>Tea, black (fermented or partly) in packages &lt;...</td>\n",
       "      <td>Import</td>\n",
       "      <td>85604441.18</td>\n",
       "      <td>41318170.24</td>\n",
       "      <td>2.07</td>\n",
       "    </tr>\n",
       "  </tbody>\n",
       "</table>\n",
       "</div>"
      ],
      "text/plain": [
       "                 Year                                          Commodity  \\\n",
       "Country or Area                                                            \n",
       "Afghanistan      2018                 Coffee, not roasted, decaffeinated   \n",
       "Afghanistan      2018        Tea, green (unfermented) in packages < 3 kg   \n",
       "Afghanistan      2018        Tea, green (unfermented) in packages < 3 kg   \n",
       "Afghanistan      2018        Tea, green (unfermented) in packages < 3 kg   \n",
       "Afghanistan      2018  Tea, black (fermented or partly) in packages <...   \n",
       "\n",
       "                      Flow  Trade (USD)  Weight (kg)  \\\n",
       "Country or Area                                        \n",
       "Afghanistan         Import    288818.29     33242.00   \n",
       "Afghanistan         Import  60505888.60  39477846.10   \n",
       "Afghanistan         Export     24985.13     11030.00   \n",
       "Afghanistan      Re-Export     24558.75     10910.00   \n",
       "Afghanistan         Import  85604441.18  41318170.24   \n",
       "\n",
       "                Trade by Weight (USD per Kg)  \n",
       "Country or Area                               \n",
       "Afghanistan                             8.69  \n",
       "Afghanistan                             1.53  \n",
       "Afghanistan                             2.27  \n",
       "Afghanistan                             2.25  \n",
       "Afghanistan                             2.07  "
      ]
     },
     "execution_count": 43,
     "metadata": {},
     "output_type": "execute_result"
    }
   ],
   "source": [
    "# Drop the non-beneficial ID columns,'Country or Area code'.\n",
    "#  YOUR CODE GOES HERE\n",
    "application_df = application_df.drop(['Country or Area Code'],1)\n",
    "\n",
    "application_df.head()"
   ]
  },
  {
   "cell_type": "code",
   "execution_count": 44,
   "id": "f2a5eb6e",
   "metadata": {},
   "outputs": [
    {
     "data": {
      "text/plain": [
       "Year                               32\n",
       "Commodity                          10\n",
       "Flow                                4\n",
       "Trade (USD)                     53729\n",
       "Weight (kg)                     45047\n",
       "Trade by Weight (USD per Kg)     3951\n",
       "dtype: int64"
      ]
     },
     "execution_count": 44,
     "metadata": {},
     "output_type": "execute_result"
    }
   ],
   "source": [
    "# Determine the number of unique values in each column.\n",
    "#  YOUR CODE GOES HERE\n",
    "application_df.nunique()"
   ]
  },
  {
   "cell_type": "code",
   "execution_count": 51,
   "id": "9602d926",
   "metadata": {},
   "outputs": [
    {
     "data": {
      "text/plain": [
       "Import       34169\n",
       "Export       24144\n",
       "Re-Export     3563\n",
       "Re-Import     1069\n",
       "Name: Flow, dtype: int64"
      ]
     },
     "execution_count": 51,
     "metadata": {},
     "output_type": "execute_result"
    }
   ],
   "source": [
    "# Look at Flow value counts for binning\n",
    "flow_count = application_df.Flow.value_counts()\n",
    "\n",
    "flow_count"
   ]
  },
  {
   "cell_type": "code",
   "execution_count": 52,
   "id": "acca11e6",
   "metadata": {},
   "outputs": [
    {
     "data": {
      "text/plain": [
       "<AxesSubplot:ylabel='Density'>"
      ]
     },
     "execution_count": 52,
     "metadata": {},
     "output_type": "execute_result"
    },
    {
     "data": {
      "image/png": "[encoded data removed]",
      "text/plain": [
       "<Figure size 432x288 with 1 Axes>"
      ]
     },
     "metadata": {
      "needs_background": "light"
     },
     "output_type": "display_data"
    }
   ],
   "source": [
    "# Visualize the value counts of Year\n",
    "flow_count.plot.density()"
   ]
  },
  {
   "cell_type": "code",
   "execution_count": 55,
   "id": "e8e8a42d",
   "metadata": {},
   "outputs": [
    {
     "data": {
      "text/plain": [
       "Import       34169\n",
       "Export       24144\n",
       "Re-Export     3563\n",
       "Re-Import     1069\n",
       "Name: Flow, dtype: int64"
      ]
     },
     "execution_count": 55,
     "metadata": {},
     "output_type": "execute_result"
    }
   ],
   "source": [
    "# Determine which values to replace if counts are less than ...?\n",
    "replace_flow = list(flow_count[flow_count < 500].index)\n",
    "# Replace in dataframe\n",
    "for app in replace_flow:\n",
    "    application_df.flow = application_df.Flow.replace(app,\"Other\")\n",
    "    \n",
    "# Check to make sure binning was successful\n",
    "application_df.Flow.value_counts()"
   ]
  },
  {
   "cell_type": "code",
   "execution_count": 72,
   "id": "b9b95c59",
   "metadata": {},
   "outputs": [
    {
     "data": {
      "text/plain": [
       "Series([], dtype: float64)"
      ]
     },
     "execution_count": 72,
     "metadata": {},
     "output_type": "execute_result"
    }
   ],
   "source": [
    "# Generate our categorical variable lists\n",
    "application_cat = application_df.dtypes[application_df.dtypes == 'object'].index.tolist()\n",
    "\n",
    "application_df[application_cat].nunique()"
   ]
  },
  {
   "cell_type": "code",
   "execution_count": 73,
   "id": "a93dbf29",
   "metadata": {},
   "outputs": [
    {
     "name": "stderr",
     "output_type": "stream",
     "text": [
      "C:\\Users\\thanh\\anaconda3\\envs\\mlenv\\lib\\site-packages\\sklearn\\utils\\deprecation.py:87: FutureWarning: Function get_feature_names is deprecated; get_feature_names is deprecated in 1.0 and will be removed in 1.2. Please use get_feature_names_out instead.\n",
      "  warnings.warn(msg, category=FutureWarning)\n"
     ]
    },
    {
     "data": {
      "text/html": [
       "<div>\n",
       "<style scoped>\n",
       "    .dataframe tbody tr th:only-of-type {\n",
       "        vertical-align: middle;\n",
       "    }\n",
       "\n",
       "    .dataframe tbody tr th {\n",
       "        vertical-align: top;\n",
       "    }\n",
       "\n",
       "    .dataframe thead th {\n",
       "        text-align: right;\n",
       "    }\n",
       "</style>\n",
       "<table border=\"1\" class=\"dataframe\">\n",
       "  <thead>\n",
       "    <tr style=\"text-align: right;\">\n",
       "      <th></th>\n",
       "    </tr>\n",
       "  </thead>\n",
       "  <tbody>\n",
       "  </tbody>\n",
       "</table>\n",
       "</div>"
      ],
      "text/plain": [
       "Empty DataFrame\n",
       "Columns: []\n",
       "Index: []"
      ]
     },
     "execution_count": 73,
     "metadata": {},
     "output_type": "execute_result"
    }
   ],
   "source": [
    "# Create a OneHotEncoder instance\n",
    "enc = OneHotEncoder(sparse=False)\n",
    "\n",
    "# Fit and transform the OneHotEncoder using the categorical variable list\n",
    "encode_df = pd.DataFrame(enc.fit_transform(application_df[application_cat]))\n",
    "\n",
    "# Add the encoded variable names to the dataframe\n",
    "encode_df.columns = enc.get_feature_names(application_cat)\n",
    "encode_df.head()"
   ]
  },
  {
   "cell_type": "code",
   "execution_count": 76,
   "id": "1350a216",
   "metadata": {},
   "outputs": [
    {
     "name": "stderr",
     "output_type": "stream",
     "text": [
      "C:\\Users\\thanh\\anaconda3\\envs\\mlenv\\lib\\site-packages\\ipykernel_launcher.py:5: FutureWarning: In a future version of pandas all arguments of DataFrame.drop except for the argument 'labels' will be keyword-only\n",
      "  \"\"\"\n"
     ]
    },
    {
     "data": {
      "text/html": [
       "<div>\n",
       "<style scoped>\n",
       "    .dataframe tbody tr th:only-of-type {\n",
       "        vertical-align: middle;\n",
       "    }\n",
       "\n",
       "    .dataframe tbody tr th {\n",
       "        vertical-align: top;\n",
       "    }\n",
       "\n",
       "    .dataframe thead th {\n",
       "        text-align: right;\n",
       "    }\n",
       "</style>\n",
       "<table border=\"1\" class=\"dataframe\">\n",
       "  <thead>\n",
       "    <tr style=\"text-align: right;\">\n",
       "      <th></th>\n",
       "      <th>Year</th>\n",
       "      <th>Trade (USD)</th>\n",
       "      <th>Weight (kg)</th>\n",
       "      <th>Commodity_Coffee husks and skins_x</th>\n",
       "      <th>Commodity_Coffee substitutes containing coffee_x</th>\n",
       "      <th>Commodity_Coffee, not roasted, decaffeinated_x</th>\n",
       "      <th>Commodity_Coffee, not roasted, not decaffeinated_x</th>\n",
       "      <th>Commodity_Coffee, roasted, decaffeinated_x</th>\n",
       "      <th>Commodity_Coffee, roasted, not decaffeinated_x</th>\n",
       "      <th>Commodity_Tea, black (fermented or partly) in packages &lt; 3 kg_x</th>\n",
       "      <th>...</th>\n",
       "      <th>Trade by Weight (USD per Kg)_97.36_y</th>\n",
       "      <th>Trade by Weight (USD per Kg)_9718.04_y</th>\n",
       "      <th>Trade by Weight (USD per Kg)_98.1_y</th>\n",
       "      <th>Trade by Weight (USD per Kg)_98.37_y</th>\n",
       "      <th>Trade by Weight (USD per Kg)_98.5_y</th>\n",
       "      <th>Trade by Weight (USD per Kg)_98.72_y</th>\n",
       "      <th>Trade by Weight (USD per Kg)_98.75_y</th>\n",
       "      <th>Trade by Weight (USD per Kg)_98.93_y</th>\n",
       "      <th>Trade by Weight (USD per Kg)_99.67_y</th>\n",
       "      <th>Trade by Weight (USD per Kg)_99503_y</th>\n",
       "    </tr>\n",
       "  </thead>\n",
       "  <tbody>\n",
       "  </tbody>\n",
       "</table>\n",
       "<p>0 rows × 15863 columns</p>\n",
       "</div>"
      ],
      "text/plain": [
       "Empty DataFrame\n",
       "Columns: [Year, Trade (USD), Weight (kg), Commodity_Coffee husks and skins_x, Commodity_Coffee substitutes containing coffee_x, Commodity_Coffee, not roasted, decaffeinated_x, Commodity_Coffee, not roasted, not decaffeinated_x, Commodity_Coffee, roasted, decaffeinated_x, Commodity_Coffee, roasted, not decaffeinated_x, Commodity_Tea, black (fermented or partly) in packages < 3 kg_x, Commodity_Tea, black (fermented or partly) in packages > 3 kg_x, Commodity_Tea, green (unfermented) in packages < 3 kg_x, Commodity_Tea, green (unfermented) in packages > 3 kg_x, Flow_Export_x, Flow_Import_x, Flow_Re-Export_x, Flow_Re-Import_x, Trade by Weight (USD per Kg)_#DIV/0!_x, Trade by Weight (USD per Kg)_0_x, Trade by Weight (USD per Kg)_0.01_x, Trade by Weight (USD per Kg)_0.02_x, Trade by Weight (USD per Kg)_0.03_x, Trade by Weight (USD per Kg)_0.04_x, Trade by Weight (USD per Kg)_0.05_x, Trade by Weight (USD per Kg)_0.06_x, Trade by Weight (USD per Kg)_0.07_x, Trade by Weight (USD per Kg)_0.08_x, Trade by Weight (USD per Kg)_0.09_x, Trade by Weight (USD per Kg)_0.1_x, Trade by Weight (USD per Kg)_0.11_x, Trade by Weight (USD per Kg)_0.12_x, Trade by Weight (USD per Kg)_0.13_x, Trade by Weight (USD per Kg)_0.14_x, Trade by Weight (USD per Kg)_0.15_x, Trade by Weight (USD per Kg)_0.16_x, Trade by Weight (USD per Kg)_0.17_x, Trade by Weight (USD per Kg)_0.18_x, Trade by Weight (USD per Kg)_0.19_x, Trade by Weight (USD per Kg)_0.2_x, Trade by Weight (USD per Kg)_0.21_x, Trade by Weight (USD per Kg)_0.22_x, Trade by Weight (USD per Kg)_0.23_x, Trade by Weight (USD per Kg)_0.24_x, Trade by Weight (USD per Kg)_0.25_x, Trade by Weight (USD per Kg)_0.26_x, Trade by Weight (USD per Kg)_0.27_x, Trade by Weight (USD per Kg)_0.28_x, Trade by Weight (USD per Kg)_0.29_x, Trade by Weight (USD per Kg)_0.3_x, Trade by Weight (USD per Kg)_0.31_x, Trade by Weight (USD per Kg)_0.32_x, Trade by Weight (USD per Kg)_0.33_x, Trade by Weight (USD per Kg)_0.34_x, Trade by Weight (USD per Kg)_0.35_x, Trade by Weight (USD per Kg)_0.36_x, Trade by Weight (USD per Kg)_0.37_x, Trade by Weight (USD per Kg)_0.38_x, Trade by Weight (USD per Kg)_0.39_x, Trade by Weight (USD per Kg)_0.4_x, Trade by Weight (USD per Kg)_0.41_x, Trade by Weight (USD per Kg)_0.42_x, Trade by Weight (USD per Kg)_0.43_x, Trade by Weight (USD per Kg)_0.44_x, Trade by Weight (USD per Kg)_0.45_x, Trade by Weight (USD per Kg)_0.46_x, Trade by Weight (USD per Kg)_0.47_x, Trade by Weight (USD per Kg)_0.48_x, Trade by Weight (USD per Kg)_0.49_x, Trade by Weight (USD per Kg)_0.5_x, Trade by Weight (USD per Kg)_0.51_x, Trade by Weight (USD per Kg)_0.52_x, Trade by Weight (USD per Kg)_0.53_x, Trade by Weight (USD per Kg)_0.54_x, Trade by Weight (USD per Kg)_0.55_x, Trade by Weight (USD per Kg)_0.56_x, Trade by Weight (USD per Kg)_0.57_x, Trade by Weight (USD per Kg)_0.58_x, Trade by Weight (USD per Kg)_0.59_x, Trade by Weight (USD per Kg)_0.6_x, Trade by Weight (USD per Kg)_0.61_x, Trade by Weight (USD per Kg)_0.62_x, Trade by Weight (USD per Kg)_0.63_x, Trade by Weight (USD per Kg)_0.64_x, Trade by Weight (USD per Kg)_0.65_x, Trade by Weight (USD per Kg)_0.66_x, Trade by Weight (USD per Kg)_0.67_x, Trade by Weight (USD per Kg)_0.68_x, Trade by Weight (USD per Kg)_0.69_x, Trade by Weight (USD per Kg)_0.7_x, Trade by Weight (USD per Kg)_0.71_x, Trade by Weight (USD per Kg)_0.72_x, Trade by Weight (USD per Kg)_0.73_x, Trade by Weight (USD per Kg)_0.74_x, Trade by Weight (USD per Kg)_0.75_x, Trade by Weight (USD per Kg)_0.76_x, Trade by Weight (USD per Kg)_0.77_x, Trade by Weight (USD per Kg)_0.78_x, Trade by Weight (USD per Kg)_0.79_x, Trade by Weight (USD per Kg)_0.8_x, Trade by Weight (USD per Kg)_0.81_x, ...]\n",
       "Index: []\n",
       "\n",
       "[0 rows x 15863 columns]"
      ]
     },
     "execution_count": 76,
     "metadata": {},
     "output_type": "execute_result"
    }
   ],
   "source": [
    "# Merge one-hot encoded features and drop the originals\n",
    "application_df = application_df.merge(encode_df, left_index = True,\n",
    "                                                 right_index = True)\n",
    "\n",
    "application_df = application_df.drop(application_cat,1)\n",
    "\n",
    "application_df.head()"
   ]
  },
  {
   "cell_type": "code",
   "execution_count": null,
   "id": "b9df6404",
   "metadata": {},
   "outputs": [],
   "source": []
  },
  {
   "cell_type": "code",
   "execution_count": null,
   "id": "853545f5",
   "metadata": {},
   "outputs": [],
   "source": []
  },
  {
   "cell_type": "code",
   "execution_count": null,
   "id": "c4b0700a",
   "metadata": {},
   "outputs": [],
   "source": []
  }
 ],
 "metadata": {
  "kernelspec": {
   "display_name": "mlenv",
   "language": "python",
   "name": "mlenv"
  },
  "language_info": {
   "codemirror_mode": {
    "name": "ipython",
    "version": 3
   },
   "file_extension": ".py",
   "mimetype": "text/x-python",
   "name": "python",
   "nbconvert_exporter": "python",
   "pygments_lexer": "ipython3",
   "version": "3.7.11"
  }
 },
 "nbformat": 4,
 "nbformat_minor": 5
}
